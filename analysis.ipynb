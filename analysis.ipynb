{
 "cells": [
  {
   "cell_type": "code",
   "execution_count": 14,
   "metadata": {},
   "outputs": [],
   "source": [
    "import pandas as pd\n",
    "import matplotlib.pyplot as plt\n",
    "from matplotlib.sankey import Sankey\n",
    "import plotly.graph_objects as go\n",
    "import seaborn as sns\n",
    "\n",
    "# Pretty theme for matplotlib\n",
    "plt.style.use(\"seaborn-v0_8-whitegrid\")\n"
   ]
  },
  {
   "cell_type": "code",
   "execution_count": 15,
   "metadata": {},
   "outputs": [],
   "source": [
    "# Load the data\n",
    "df_arms = pd.read_csv('trade-register.csv', header=10,  encoding=\"latin\")"
   ]
  },
  {
   "cell_type": "code",
   "execution_count": 16,
   "metadata": {},
   "outputs": [
    {
     "data": {
      "application/vnd.microsoft.datawrangler.viewer.v0+json": {
       "columns": [
        {
         "name": "index",
         "rawType": "int64",
         "type": "integer"
        },
        {
         "name": "Recipient",
         "rawType": "object",
         "type": "unknown"
        },
        {
         "name": "Supplier",
         "rawType": "object",
         "type": "string"
        },
        {
         "name": "Year of order",
         "rawType": "float64",
         "type": "float"
        },
        {
         "name": " ",
         "rawType": "object",
         "type": "unknown"
        },
        {
         "name": "Number ordered",
         "rawType": "float64",
         "type": "float"
        },
        {
         "name": " .1",
         "rawType": "object",
         "type": "unknown"
        },
        {
         "name": "Weapon designation",
         "rawType": "object",
         "type": "unknown"
        },
        {
         "name": "Weapon description",
         "rawType": "object",
         "type": "unknown"
        },
        {
         "name": "Number delivered",
         "rawType": "float64",
         "type": "float"
        },
        {
         "name": " .2",
         "rawType": "object",
         "type": "unknown"
        },
        {
         "name": "Year(s) of delivery",
         "rawType": "object",
         "type": "unknown"
        },
        {
         "name": "status",
         "rawType": "object",
         "type": "unknown"
        },
        {
         "name": "Comments",
         "rawType": "object",
         "type": "unknown"
        },
        {
         "name": "SIPRI TIV per unit",
         "rawType": "float64",
         "type": "float"
        },
        {
         "name": "SIPRI TIV for total order",
         "rawType": "float64",
         "type": "float"
        },
        {
         "name": "SIPRI TIV of delivered weapons",
         "rawType": "float64",
         "type": "float"
        }
       ],
       "conversionMethod": "pd.DataFrame",
       "ref": "acab2550-7dbe-4956-8043-659ee86eb640",
       "rows": [
        [
         "0",
         "Afghanistan",
         "Brazil",
         "2017.0",
         null,
         "6.0",
         null,
         "EMB-314 Super Tucano",
         "trainer/combat aircraft",
         "6.0",
         null,
         "2018",
         "New",
         "A-29B version; financed by USA; ordered via USA from US production line",
         "4.5",
         "27.0",
         "27.0"
        ],
        [
         "1",
         "Afghanistan",
         "Soviet Union",
         "1987.0",
         "?",
         "3.0",
         null,
         "An-26",
         "transport aircraft",
         "3.0",
         null,
         "1987",
         "New",
         null,
         "8.5",
         "25.5",
         "25.5"
        ],
        [
         "2",
         "Afghanistan",
         "Soviet Union",
         "1988.0",
         "?",
         "40.0",
         "?",
         "2S9 120mm",
         "self-propelled gun",
         "40.0",
         null,
         "1988",
         "Second hand",
         "Second-hand; aid; handed over by Soviet forces withdrawing from Afghanistan",
         "0.3",
         "12.0",
         "12.0"
        ],
        [
         "3",
         "Afghanistan",
         "Soviet Union",
         "1979.0",
         "?",
         "6000.0",
         "?",
         "Malyutka",
         "anti-tank missile",
         "6000.0",
         null,
         "1979; 1980; 1981; 1982; 1983; 1984; 1985; 1986; 1987; 1988; 1989; 1990",
         "New",
         "Incl for Mi-24 helicopters and BMP-1 IFV",
         "0.01",
         "60.0",
         "60.0"
        ],
        [
         "4",
         "Afghanistan",
         "Soviet Union",
         "1988.0",
         "?",
         "13.0",
         "?",
         "9P113",
         "surface-to-surface missile launcher",
         "13.0",
         null,
         "1988",
         "Second hand",
         "Second-hand",
         "0.2",
         "2.6",
         "2.6"
        ],
        [
         "5",
         "Afghanistan",
         "Soviet Union",
         "1955.0",
         "?",
         "100.0",
         "?",
         "MiG-17",
         "fighter aircraft",
         "100.0",
         null,
         "1957; 1958; 1959",
         "New",
         null,
         "3.5",
         "350.0",
         "350.0"
        ],
        [
         "6",
         "Afghanistan",
         "Soviet Union",
         "1965.0",
         "?",
         "150.0",
         "?",
         "V-750",
         "SAM",
         "150.0",
         null,
         "1966; 1967",
         "New",
         null,
         "0.12",
         "18.0",
         "18.0"
        ],
        [
         "7",
         "Afghanistan",
         "Soviet Union",
         "1961.0",
         "?",
         "250.0",
         "?",
         "Shmel",
         "anti-tank missile",
         "250.0",
         null,
         "1962; 1963; 1964",
         "New",
         null,
         "0.01",
         "2.5",
         "2.5"
        ],
        [
         "8",
         "Afghanistan",
         "Canada",
         "2013.0",
         null,
         "20.0",
         "?",
         "aircraft engine",
         "aircraft engine",
         "20.0",
         "?",
         "2016",
         "New",
         "Pratt & Whitney Canada PT-6A-68 (1250hp) turboprop; for 20 EMB-314 trainer/combat aircraft from Brazil",
         "0.5",
         "10.0",
         "10.0"
        ],
        [
         "9",
         "Afghanistan",
         "Soviet Union",
         "1976.0",
         "?",
         "36.0",
         "?",
         "An-26",
         "transport aircraft",
         "36.0",
         "?",
         "1977; 1978; 1979; 1980; 1981; 1982",
         "New",
         "Possibly some second-hand",
         "8.5",
         "306.0",
         "306.0"
        ],
        [
         "10",
         "Afghanistan",
         "Soviet Union",
         "1989.0",
         "?",
         "12.0",
         null,
         "An-12",
         "transport aircraft",
         "12.0",
         null,
         "1989",
         "Second hand",
         "Second-hand",
         "9.2",
         "110.4",
         "110.4"
        ],
        [
         "11",
         "Afghanistan",
         "United States",
         "2012.0",
         null,
         "71.0",
         null,
         "M-1117 Guardian",
         "APC",
         "71.0",
         null,
         "2014",
         "New",
         "$79 m deal; MSFV version",
         "0.4",
         "28.4",
         "28.4"
        ],
        [
         "12",
         "Afghanistan",
         "United States",
         "2011.0",
         null,
         "240.0",
         null,
         "M-1117 Guardian",
         "APC",
         "240.0",
         null,
         "2012; 2013",
         "New",
         "$257 m deal; MSFV version; incl command; ARV; AEV; ambulance and mortar carrier versions",
         "0.4",
         "96.0",
         "96.0"
        ],
        [
         "13",
         "Afghanistan",
         "United States",
         "2013.0",
         null,
         "135.0",
         null,
         "M-1117 Guardian",
         "APC",
         "135.0",
         "?",
         "2014; 2015",
         "New",
         "$113 m deal; MSFV version",
         "0.4",
         "54.0",
         "54.0"
        ],
        [
         "14",
         "Afghanistan",
         "United States",
         "2019.0",
         null,
         "12.0",
         null,
         "MD-500E",
         "light helicopter",
         "12.0",
         null,
         "2020; 2021",
         "New",
         "Armed MD-530F version; Afghan designation Jengi",
         "0.7",
         "8.4",
         "8.4"
        ],
        [
         "15",
         "Afghanistan",
         "United States",
         "2019.0",
         "?",
         "55.0",
         "?",
         "M-1117 Guardian",
         "APC",
         "55.0",
         null,
         "2020",
         "New",
         "Aid; MSFV version",
         "0.4",
         "22.0",
         "22.0"
        ],
        [
         "16",
         "Afghanistan",
         "United States",
         "2017.0",
         null,
         "55.0",
         "?",
         "M-1117 Guardian",
         "APC",
         "55.0",
         null,
         "2018; 2019",
         "New",
         null,
         "0.4",
         "22.0",
         "22.0"
        ],
        [
         "17",
         "Afghanistan",
         "China",
         "2017.0",
         "?",
         "10.0",
         "?",
         "Tiger",
         "APC",
         "10.0",
         null,
         "2017",
         "New",
         null,
         "0.15",
         "1.5",
         "1.5"
        ],
        [
         "18",
         "Afghanistan",
         "United States",
         "2018.0",
         null,
         "10.0",
         null,
         "Cessna-208 Caravan",
         "light transport aircraft",
         "10.0",
         null,
         "2018; 2019; 2020",
         "New",
         "$86 m deal; aid; armed Cessna-208B version",
         "1.0",
         "10.0",
         "10.0"
        ],
        [
         "19",
         "Afghanistan",
         "United States",
         "2017.0",
         null,
         "30.0",
         null,
         "MD-500E",
         "light helicopter",
         "30.0",
         null,
         "2018; 2019",
         "New",
         "Armed MD-530F version; Afghan designation Jengi",
         "0.7",
         "21.0",
         "21.0"
        ],
        [
         "20",
         "Afghanistan",
         "Bosnia-Herzegovina",
         "2009.0",
         null,
         "60.0",
         null,
         "D-30 122mm",
         "towed gun",
         "60.0",
         null,
         "2011",
         "Second hand but modernized",
         "Second-hand but modernized before delivery",
         "0.23",
         "13.86",
         "13.86"
        ],
        [
         "21",
         "Afghanistan",
         "Bosnia-Herzegovina",
         "2012.0",
         "?",
         "20.0",
         "?",
         "D-30 122mm",
         "towed gun",
         "20.0",
         null,
         "2013",
         "Second hand",
         "Second-hand",
         "0.14",
         "2.8",
         "2.8"
        ],
        [
         "22",
         "Afghanistan",
         "Soviet Union",
         "1961.0",
         "?",
         "50.0",
         "?",
         "T-54",
         "tank",
         "50.0",
         null,
         "1962; 1963; 1964",
         "Second hand",
         "Second-hand",
         "0.44",
         "22.0",
         "22.0"
        ],
        [
         "23",
         "Afghanistan",
         "Soviet Union",
         "1988.0",
         "?",
         "200.0",
         "?",
         "Kh-25M",
         "anti-radar missile/ASM",
         "200.0",
         null,
         "1988; 1989",
         "New",
         "Kh-25ML ASM and Kh-25MP ARM versions",
         "0.18",
         "36.0",
         "36.0"
        ],
        [
         "24",
         "Afghanistan",
         "United States",
         "2015.0",
         "?",
         "12.0",
         null,
         "MD-500E",
         "light helicopter",
         "12.0",
         null,
         "2016",
         "New",
         "Armed MD-530F version",
         "0.7",
         "8.4",
         "8.4"
        ],
        [
         "25",
         "Afghanistan",
         "Russia",
         "2013.0",
         null,
         "30.0",
         null,
         "Mi-17",
         "transport helicopter",
         "30.0",
         null,
         "2014",
         "New",
         "$572 m deal (bought via and financed by USA); Mi-17V-5 version",
         "7.25",
         "217.5",
         "217.5"
        ],
        [
         "26",
         "Afghanistan",
         "United States",
         "2012.0",
         "?",
         "4.0",
         null,
         "C-130H Hercules",
         "transport aircraft",
         "4.0",
         null,
         "2013; 2014; 2015",
         "Second hand",
         "Second-hand; aid",
         "11.2",
         "44.8",
         "44.8"
        ],
        [
         "27",
         "Afghanistan",
         "United States",
         "2016.0",
         null,
         "1673.0",
         null,
         "HMMWV-UA",
         "APC",
         "1673.0",
         null,
         "2016; 2017",
         "New",
         "$356 m deal; incl 1259 M-1151A1B1 and 414 M-1151A1B2 version",
         "0.13",
         "217.49",
         "217.49"
        ],
        [
         "28",
         "Afghanistan",
         "Soviet Union",
         "1969.0",
         "?",
         "1.0",
         null,
         "Il-18",
         "transport aircraft",
         "1.0",
         null,
         "1970",
         "Second hand",
         "Second-hand",
         "7.6",
         "7.6",
         "7.6"
        ],
        [
         "29",
         "Afghanistan",
         "Soviet Union",
         "1967.0",
         "?",
         "1.0",
         null,
         "Il-18",
         "transport aircraft",
         "1.0",
         null,
         "1968",
         "Second hand",
         "Second-hand",
         "7.6",
         "7.6",
         "7.6"
        ],
        [
         "30",
         "Afghanistan",
         "United States",
         "2014.0",
         null,
         "222.0",
         null,
         "MaxxPro",
         "APC",
         "222.0",
         null,
         "2015",
         "Second hand",
         "Second-hand; incl 20 recovery vehicle version; aid",
         "0.13",
         "28.42",
         "28.42"
        ],
        [
         "31",
         "Afghanistan",
         "United States",
         "2016.0",
         null,
         "433.0",
         null,
         "HMMWV-UA",
         "APC",
         "433.0",
         null,
         "2017",
         "New",
         "$109 m deal; incl 360 M-1152A1B2 and 73 M-1151A1B1 version",
         "0.13",
         "56.29",
         "56.29"
        ],
        [
         "32",
         "Afghanistan",
         "United States",
         "2012.0",
         "?",
         "136.0",
         "?",
         "M-1117 Guardian",
         "APC",
         "136.0",
         "?",
         "2013; 2014",
         "New",
         "MSFV version",
         "0.4",
         "54.4",
         "54.4"
        ],
        [
         "33",
         "Afghanistan",
         "Soviet Union",
         "1988.0",
         "?",
         "360.0",
         "?",
         "BTR-70",
         "APC",
         "360.0",
         null,
         "1988; 1989; 1990",
         "New",
         "Probably most second-hand; aid; incl handed over by Soviet forces withdrawing from Afghanistan 1990",
         "0.27",
         "97.2",
         "97.2"
        ],
        [
         "34",
         "Afghanistan",
         "United States",
         "2017.0",
         null,
         "4300.0",
         "?",
         "HMMWV-UA",
         "APC",
         "4300.0",
         null,
         "2018; 2019; 2020; 2021",
         "New",
         "Aid; more ordered but cancelled after Taliban took power in Afghanistan mid-2021",
         "0.13",
         "559.0",
         "559.0"
        ],
        [
         "35",
         "Afghanistan",
         "United States",
         "2015.0",
         null,
         "65.0",
         null,
         "ScanEagle",
         "UAV",
         "65.0",
         null,
         "2016; 2017; 2018",
         "New",
         "$71 m deal",
         "0.04",
         "2.6",
         "2.6"
        ],
        [
         "36",
         "Afghanistan",
         "United States",
         "2018.0",
         null,
         "35.0",
         null,
         "ScanEagle",
         "UAV",
         "35.0",
         null,
         "2019",
         "New",
         "$58 m deal (incl operational support)",
         "0.04",
         "1.4",
         "1.4"
        ],
        [
         "37",
         "Afghanistan",
         "United States",
         "2017.0",
         null,
         "5.0",
         "?",
         "ScanEagle",
         "UAV",
         "5.0",
         null,
         "2018",
         "New",
         "$19.6 m deal",
         "0.04",
         "0.2",
         "0.2"
        ],
        [
         "38",
         "Afghanistan",
         "Belarus",
         "2018.0",
         null,
         "4.0",
         null,
         "Mi-24V/Mi-35",
         "combat helicopter",
         "4.0",
         null,
         "2019",
         "Second hand",
         "Second-hand; financed by India",
         "3.4",
         "13.6",
         "13.6"
        ],
        [
         "39",
         "Afghanistan",
         "Soviet Union",
         "1988.0",
         "?",
         "30.0",
         "?",
         "9P117 Uragan",
         "surface-to-surface missile launcher",
         "30.0",
         null,
         "1988; 1989; 1990",
         "New",
         "Possibly second-hand; mainly for use against Mujahideen rebel forces; operated by Soviet crews 1988-1992",
         "1.0",
         "30.0",
         "30.0"
        ],
        [
         "40",
         "Afghanistan",
         "India",
         "2015.0",
         null,
         "4.0",
         null,
         "Mi-24D/Mi-25",
         "combat helicopter",
         "4.0",
         null,
         "2015; 2016",
         "Second hand",
         "Second-hand; aid; Mi-25 version",
         "3.3",
         "13.2",
         "13.2"
        ],
        [
         "41",
         "Afghanistan",
         "United States",
         "2017.0",
         null,
         "1673.0",
         "?",
         "HMMWV-UA",
         "APC",
         "1673.0",
         null,
         "2018; 2019; 2020; 2021",
         "Second hand",
         "Second-hand; aid",
         "0.05",
         "87.0",
         "87.0"
        ],
        [
         "42",
         "Afghanistan",
         "Switzerland",
         "2012.0",
         null,
         "18.0",
         null,
         "PC-12",
         "light transport aircraft",
         "18.0",
         "?",
         "2013; 2014; 2015",
         "New",
         "$218 m deal; ordered via USA and possibly modified in USA for reconnaissance role before delivery",
         "1.85",
         "33.3",
         "33.3"
        ],
        [
         "43",
         "Afghanistan",
         "Russia",
         "2009.0",
         null,
         "4.0",
         null,
         "Mi-17",
         "transport helicopter",
         "4.0",
         null,
         "2009",
         "New",
         "$43 m deal (bought via US company); Mi-17 version",
         "7.25",
         "29.0",
         "29.0"
        ],
        [
         "44",
         "Afghanistan",
         "Soviet Union",
         "1979.0",
         "?",
         "560.0",
         "?",
         "BTR-50",
         "APC",
         "560.0",
         null,
         "1979; 1980; 1981; 1982; 1983; 1984; 1985; 1986; 1987; 1988",
         "Second hand",
         "Second-hand",
         "0.1",
         "56.0",
         "56.0"
        ],
        [
         "45",
         "Afghanistan",
         "Soviet Union",
         "1963.0",
         "?",
         "100.0",
         "?",
         "BTR-50",
         "APC",
         "100.0",
         "?",
         "1965; 1966",
         "New",
         null,
         "0.25",
         "25.0",
         "25.0"
        ],
        [
         "46",
         "Afghanistan",
         "Soviet Union",
         "1955.0",
         "?",
         "1.0",
         null,
         "Il-14",
         "transport aircraft",
         "1.0",
         null,
         "1955",
         "New",
         "Aid",
         "4.0",
         "4.0",
         "4.0"
        ],
        [
         "47",
         "Afghanistan",
         "Slovakia",
         "2006.0",
         null,
         "24.0",
         "?",
         "D-30 122mm",
         "towed gun",
         "24.0",
         null,
         "2006",
         "Second hand",
         "Second-hand; aid",
         "0.14",
         "3.36",
         "3.36"
        ],
        [
         "48",
         "Afghanistan",
         "Czechia",
         "2007.0",
         null,
         "6.0",
         null,
         "Mi-24V/Mi-35",
         "combat helicopter",
         "6.0",
         null,
         "2008; 2009",
         "Second hand but modernized",
         "Second-hand but modernized before delivery; aid (aircraft donated by Czech Republic and modernization funded by NATO)",
         "5.61",
         "33.66",
         "33.66"
        ],
        [
         "49",
         "Afghanistan",
         "Czechia",
         "2007.0",
         null,
         "6.0",
         null,
         "Mi-17",
         "transport helicopter",
         "6.0",
         null,
         "2007; 2008",
         "Second hand but modernized",
         "Second-hand but modernized before delivery; aid (aircraft donated by Czech Republic and modernization funded by NATO)",
         "4.79",
         "28.71",
         "28.71"
        ]
       ],
       "shape": {
        "columns": 16,
        "rows": 29519
       }
      },
      "text/html": [
       "<div>\n",
       "<style scoped>\n",
       "    .dataframe tbody tr th:only-of-type {\n",
       "        vertical-align: middle;\n",
       "    }\n",
       "\n",
       "    .dataframe tbody tr th {\n",
       "        vertical-align: top;\n",
       "    }\n",
       "\n",
       "    .dataframe thead th {\n",
       "        text-align: right;\n",
       "    }\n",
       "</style>\n",
       "<table border=\"1\" class=\"dataframe\">\n",
       "  <thead>\n",
       "    <tr style=\"text-align: right;\">\n",
       "      <th></th>\n",
       "      <th>Recipient</th>\n",
       "      <th>Supplier</th>\n",
       "      <th>Year of order</th>\n",
       "      <th></th>\n",
       "      <th>Number ordered</th>\n",
       "      <th>.1</th>\n",
       "      <th>Weapon designation</th>\n",
       "      <th>Weapon description</th>\n",
       "      <th>Number delivered</th>\n",
       "      <th>.2</th>\n",
       "      <th>Year(s) of delivery</th>\n",
       "      <th>status</th>\n",
       "      <th>Comments</th>\n",
       "      <th>SIPRI TIV per unit</th>\n",
       "      <th>SIPRI TIV for total order</th>\n",
       "      <th>SIPRI TIV of delivered weapons</th>\n",
       "    </tr>\n",
       "  </thead>\n",
       "  <tbody>\n",
       "    <tr>\n",
       "      <th>0</th>\n",
       "      <td>Afghanistan</td>\n",
       "      <td>Brazil</td>\n",
       "      <td>2017.0</td>\n",
       "      <td>NaN</td>\n",
       "      <td>6.0</td>\n",
       "      <td>NaN</td>\n",
       "      <td>EMB-314 Super Tucano</td>\n",
       "      <td>trainer/combat aircraft</td>\n",
       "      <td>6.0</td>\n",
       "      <td>NaN</td>\n",
       "      <td>2018</td>\n",
       "      <td>New</td>\n",
       "      <td>A-29B version; financed by USA; ordered via US...</td>\n",
       "      <td>4.50</td>\n",
       "      <td>27.0</td>\n",
       "      <td>27.0</td>\n",
       "    </tr>\n",
       "    <tr>\n",
       "      <th>1</th>\n",
       "      <td>Afghanistan</td>\n",
       "      <td>Soviet Union</td>\n",
       "      <td>1987.0</td>\n",
       "      <td>?</td>\n",
       "      <td>3.0</td>\n",
       "      <td>NaN</td>\n",
       "      <td>An-26</td>\n",
       "      <td>transport aircraft</td>\n",
       "      <td>3.0</td>\n",
       "      <td>NaN</td>\n",
       "      <td>1987</td>\n",
       "      <td>New</td>\n",
       "      <td>NaN</td>\n",
       "      <td>8.50</td>\n",
       "      <td>25.5</td>\n",
       "      <td>25.5</td>\n",
       "    </tr>\n",
       "    <tr>\n",
       "      <th>2</th>\n",
       "      <td>Afghanistan</td>\n",
       "      <td>Soviet Union</td>\n",
       "      <td>1988.0</td>\n",
       "      <td>?</td>\n",
       "      <td>40.0</td>\n",
       "      <td>?</td>\n",
       "      <td>2S9 120mm</td>\n",
       "      <td>self-propelled gun</td>\n",
       "      <td>40.0</td>\n",
       "      <td>NaN</td>\n",
       "      <td>1988</td>\n",
       "      <td>Second hand</td>\n",
       "      <td>Second-hand; aid; handed over by Soviet forces...</td>\n",
       "      <td>0.30</td>\n",
       "      <td>12.0</td>\n",
       "      <td>12.0</td>\n",
       "    </tr>\n",
       "    <tr>\n",
       "      <th>3</th>\n",
       "      <td>Afghanistan</td>\n",
       "      <td>Soviet Union</td>\n",
       "      <td>1979.0</td>\n",
       "      <td>?</td>\n",
       "      <td>6000.0</td>\n",
       "      <td>?</td>\n",
       "      <td>Malyutka</td>\n",
       "      <td>anti-tank missile</td>\n",
       "      <td>6000.0</td>\n",
       "      <td>NaN</td>\n",
       "      <td>1979; 1980; 1981; 1982; 1983; 1984; 1985; 1986...</td>\n",
       "      <td>New</td>\n",
       "      <td>Incl for Mi-24 helicopters and BMP-1 IFV</td>\n",
       "      <td>0.01</td>\n",
       "      <td>60.0</td>\n",
       "      <td>60.0</td>\n",
       "    </tr>\n",
       "    <tr>\n",
       "      <th>4</th>\n",
       "      <td>Afghanistan</td>\n",
       "      <td>Soviet Union</td>\n",
       "      <td>1988.0</td>\n",
       "      <td>?</td>\n",
       "      <td>13.0</td>\n",
       "      <td>?</td>\n",
       "      <td>9P113</td>\n",
       "      <td>surface-to-surface missile launcher</td>\n",
       "      <td>13.0</td>\n",
       "      <td>NaN</td>\n",
       "      <td>1988</td>\n",
       "      <td>Second hand</td>\n",
       "      <td>Second-hand</td>\n",
       "      <td>0.20</td>\n",
       "      <td>2.6</td>\n",
       "      <td>2.6</td>\n",
       "    </tr>\n",
       "    <tr>\n",
       "      <th>...</th>\n",
       "      <td>...</td>\n",
       "      <td>...</td>\n",
       "      <td>...</td>\n",
       "      <td>...</td>\n",
       "      <td>...</td>\n",
       "      <td>...</td>\n",
       "      <td>...</td>\n",
       "      <td>...</td>\n",
       "      <td>...</td>\n",
       "      <td>...</td>\n",
       "      <td>...</td>\n",
       "      <td>...</td>\n",
       "      <td>...</td>\n",
       "      <td>...</td>\n",
       "      <td>...</td>\n",
       "      <td>...</td>\n",
       "    </tr>\n",
       "    <tr>\n",
       "      <th>29514</th>\n",
       "      <td>Zimbabwe</td>\n",
       "      <td>Russia</td>\n",
       "      <td>1998.0</td>\n",
       "      <td>?</td>\n",
       "      <td>6.0</td>\n",
       "      <td>NaN</td>\n",
       "      <td>Mi-24P/Mi-35P</td>\n",
       "      <td>combat helicopter</td>\n",
       "      <td>6.0</td>\n",
       "      <td>NaN</td>\n",
       "      <td>1999</td>\n",
       "      <td>Second hand</td>\n",
       "      <td>Second-hand; bought for use in DRC against reb...</td>\n",
       "      <td>3.60</td>\n",
       "      <td>21.6</td>\n",
       "      <td>21.6</td>\n",
       "    </tr>\n",
       "    <tr>\n",
       "      <th>29515</th>\n",
       "      <td>Zimbabwe</td>\n",
       "      <td>Italy</td>\n",
       "      <td>1967.0</td>\n",
       "      <td>?</td>\n",
       "      <td>20.0</td>\n",
       "      <td>?</td>\n",
       "      <td>Model-56 105mm</td>\n",
       "      <td>towed gun</td>\n",
       "      <td>20.0</td>\n",
       "      <td>NaN</td>\n",
       "      <td>1967</td>\n",
       "      <td>New</td>\n",
       "      <td>Supplier uncertain</td>\n",
       "      <td>0.45</td>\n",
       "      <td>9.0</td>\n",
       "      <td>9.0</td>\n",
       "    </tr>\n",
       "    <tr>\n",
       "      <th>29516</th>\n",
       "      <td>Zimbabwe</td>\n",
       "      <td>China</td>\n",
       "      <td>2004.0</td>\n",
       "      <td>?</td>\n",
       "      <td>5.0</td>\n",
       "      <td>?</td>\n",
       "      <td>Type-89/ZSD-89</td>\n",
       "      <td>APC</td>\n",
       "      <td>5.0</td>\n",
       "      <td>NaN</td>\n",
       "      <td>2004</td>\n",
       "      <td>New</td>\n",
       "      <td>ARV version</td>\n",
       "      <td>0.30</td>\n",
       "      <td>1.5</td>\n",
       "      <td>1.5</td>\n",
       "    </tr>\n",
       "    <tr>\n",
       "      <th>29517</th>\n",
       "      <td>Zimbabwe</td>\n",
       "      <td>Soviet Union</td>\n",
       "      <td>1975.0</td>\n",
       "      <td>?</td>\n",
       "      <td>15.0</td>\n",
       "      <td>?</td>\n",
       "      <td>T-34-85</td>\n",
       "      <td>tank</td>\n",
       "      <td>15.0</td>\n",
       "      <td>NaN</td>\n",
       "      <td>1975</td>\n",
       "      <td>Second hand</td>\n",
       "      <td>Second-hand; supplier uncertain</td>\n",
       "      <td>0.38</td>\n",
       "      <td>5.7</td>\n",
       "      <td>5.7</td>\n",
       "    </tr>\n",
       "    <tr>\n",
       "      <th>29518</th>\n",
       "      <td>Zimbabwe</td>\n",
       "      <td>China</td>\n",
       "      <td>2004.0</td>\n",
       "      <td>?</td>\n",
       "      <td>10.0</td>\n",
       "      <td>?</td>\n",
       "      <td>Type-85</td>\n",
       "      <td>APC</td>\n",
       "      <td>10.0</td>\n",
       "      <td>NaN</td>\n",
       "      <td>2004</td>\n",
       "      <td>New</td>\n",
       "      <td>NaN</td>\n",
       "      <td>0.30</td>\n",
       "      <td>3.0</td>\n",
       "      <td>3.0</td>\n",
       "    </tr>\n",
       "  </tbody>\n",
       "</table>\n",
       "<p>29519 rows × 16 columns</p>\n",
       "</div>"
      ],
      "text/plain": [
       "         Recipient      Supplier  Year of order       Number ordered   .1  \\\n",
       "0      Afghanistan        Brazil         2017.0  NaN             6.0  NaN   \n",
       "1      Afghanistan  Soviet Union         1987.0    ?             3.0  NaN   \n",
       "2      Afghanistan  Soviet Union         1988.0    ?            40.0    ?   \n",
       "3      Afghanistan  Soviet Union         1979.0    ?          6000.0    ?   \n",
       "4      Afghanistan  Soviet Union         1988.0    ?            13.0    ?   \n",
       "...            ...           ...            ...  ...             ...  ...   \n",
       "29514     Zimbabwe        Russia         1998.0    ?             6.0  NaN   \n",
       "29515     Zimbabwe         Italy         1967.0    ?            20.0    ?   \n",
       "29516     Zimbabwe         China         2004.0    ?             5.0    ?   \n",
       "29517     Zimbabwe  Soviet Union         1975.0    ?            15.0    ?   \n",
       "29518     Zimbabwe         China         2004.0    ?            10.0    ?   \n",
       "\n",
       "         Weapon designation                   Weapon description  \\\n",
       "0      EMB-314 Super Tucano              trainer/combat aircraft   \n",
       "1                     An-26                   transport aircraft   \n",
       "2                 2S9 120mm                   self-propelled gun   \n",
       "3                  Malyutka                    anti-tank missile   \n",
       "4                     9P113  surface-to-surface missile launcher   \n",
       "...                     ...                                  ...   \n",
       "29514         Mi-24P/Mi-35P                    combat helicopter   \n",
       "29515        Model-56 105mm                            towed gun   \n",
       "29516        Type-89/ZSD-89                                  APC   \n",
       "29517               T-34-85                                 tank   \n",
       "29518               Type-85                                  APC   \n",
       "\n",
       "       Number delivered   .2  \\\n",
       "0                   6.0  NaN   \n",
       "1                   3.0  NaN   \n",
       "2                  40.0  NaN   \n",
       "3                6000.0  NaN   \n",
       "4                  13.0  NaN   \n",
       "...                 ...  ...   \n",
       "29514               6.0  NaN   \n",
       "29515              20.0  NaN   \n",
       "29516               5.0  NaN   \n",
       "29517              15.0  NaN   \n",
       "29518              10.0  NaN   \n",
       "\n",
       "                                     Year(s) of delivery       status  \\\n",
       "0                                                   2018          New   \n",
       "1                                                   1987          New   \n",
       "2                                                   1988  Second hand   \n",
       "3      1979; 1980; 1981; 1982; 1983; 1984; 1985; 1986...          New   \n",
       "4                                                   1988  Second hand   \n",
       "...                                                  ...          ...   \n",
       "29514                                               1999  Second hand   \n",
       "29515                                               1967          New   \n",
       "29516                                               2004          New   \n",
       "29517                                               1975  Second hand   \n",
       "29518                                               2004          New   \n",
       "\n",
       "                                                Comments  SIPRI TIV per unit  \\\n",
       "0      A-29B version; financed by USA; ordered via US...                4.50   \n",
       "1                                                    NaN                8.50   \n",
       "2      Second-hand; aid; handed over by Soviet forces...                0.30   \n",
       "3               Incl for Mi-24 helicopters and BMP-1 IFV                0.01   \n",
       "4                                            Second-hand                0.20   \n",
       "...                                                  ...                 ...   \n",
       "29514  Second-hand; bought for use in DRC against reb...                3.60   \n",
       "29515                                 Supplier uncertain                0.45   \n",
       "29516                                        ARV version                0.30   \n",
       "29517                    Second-hand; supplier uncertain                0.38   \n",
       "29518                                                NaN                0.30   \n",
       "\n",
       "       SIPRI TIV for total order  SIPRI TIV of delivered weapons  \n",
       "0                           27.0                            27.0  \n",
       "1                           25.5                            25.5  \n",
       "2                           12.0                            12.0  \n",
       "3                           60.0                            60.0  \n",
       "4                            2.6                             2.6  \n",
       "...                          ...                             ...  \n",
       "29514                       21.6                            21.6  \n",
       "29515                        9.0                             9.0  \n",
       "29516                        1.5                             1.5  \n",
       "29517                        5.7                             5.7  \n",
       "29518                        3.0                             3.0  \n",
       "\n",
       "[29519 rows x 16 columns]"
      ]
     },
     "execution_count": 16,
     "metadata": {},
     "output_type": "execute_result"
    }
   ],
   "source": [
    "df_arms"
   ]
  },
  {
   "cell_type": "code",
   "execution_count": 17,
   "metadata": {},
   "outputs": [],
   "source": [
    "# Remove NaN for Year of order and dates before 1950\n",
    "df_arms = df_arms.dropna(subset=['Year of order'])\n",
    "df_arms = df_arms[df_arms['Year of order'] >= 1950]"
   ]
  },
  {
   "cell_type": "code",
   "execution_count": 18,
   "metadata": {},
   "outputs": [
    {
     "data": {
      "application/vnd.microsoft.datawrangler.viewer.v0+json": {
       "columns": [
        {
         "name": "index",
         "rawType": "int64",
         "type": "integer"
        },
        {
         "name": "Recipient",
         "rawType": "object",
         "type": "string"
        },
        {
         "name": "Supplier",
         "rawType": "object",
         "type": "string"
        },
        {
         "name": "Year of order",
         "rawType": "float64",
         "type": "float"
        },
        {
         "name": " ",
         "rawType": "object",
         "type": "unknown"
        },
        {
         "name": "Number ordered",
         "rawType": "float64",
         "type": "float"
        },
        {
         "name": " .1",
         "rawType": "object",
         "type": "unknown"
        },
        {
         "name": "Weapon designation",
         "rawType": "object",
         "type": "string"
        },
        {
         "name": "Weapon description",
         "rawType": "object",
         "type": "string"
        },
        {
         "name": "Number delivered",
         "rawType": "float64",
         "type": "float"
        },
        {
         "name": " .2",
         "rawType": "object",
         "type": "unknown"
        },
        {
         "name": "Year(s) of delivery",
         "rawType": "object",
         "type": "unknown"
        },
        {
         "name": "status",
         "rawType": "object",
         "type": "string"
        },
        {
         "name": "Comments",
         "rawType": "object",
         "type": "unknown"
        },
        {
         "name": "SIPRI TIV per unit",
         "rawType": "float64",
         "type": "float"
        },
        {
         "name": "SIPRI TIV for total order",
         "rawType": "float64",
         "type": "float"
        },
        {
         "name": "SIPRI TIV of delivered weapons",
         "rawType": "float64",
         "type": "float"
        }
       ],
       "conversionMethod": "pd.DataFrame",
       "ref": "54e953e0-f039-470c-8c5e-6bf738dee44a",
       "rows": [
        [
         "11",
         "Afghanistan",
         "United States",
         "2012.0",
         null,
         "71.0",
         null,
         "M-1117 Guardian",
         "APC",
         "71.0",
         null,
         "2014",
         "New",
         "$79 m deal; MSFV version",
         "0.4",
         "28.4",
         "28.4"
        ],
        [
         "12",
         "Afghanistan",
         "United States",
         "2011.0",
         null,
         "240.0",
         null,
         "M-1117 Guardian",
         "APC",
         "240.0",
         null,
         "2012; 2013",
         "New",
         "$257 m deal; MSFV version; incl command; ARV; AEV; ambulance and mortar carrier versions",
         "0.4",
         "96.0",
         "96.0"
        ],
        [
         "13",
         "Afghanistan",
         "United States",
         "2013.0",
         null,
         "135.0",
         null,
         "M-1117 Guardian",
         "APC",
         "135.0",
         "?",
         "2014; 2015",
         "New",
         "$113 m deal; MSFV version",
         "0.4",
         "54.0",
         "54.0"
        ],
        [
         "14",
         "Afghanistan",
         "United States",
         "2019.0",
         null,
         "12.0",
         null,
         "MD-500E",
         "light helicopter",
         "12.0",
         null,
         "2020; 2021",
         "New",
         "Armed MD-530F version; Afghan designation Jengi",
         "0.7",
         "8.4",
         "8.4"
        ],
        [
         "15",
         "Afghanistan",
         "United States",
         "2019.0",
         "?",
         "55.0",
         "?",
         "M-1117 Guardian",
         "APC",
         "55.0",
         null,
         "2020",
         "New",
         "Aid; MSFV version",
         "0.4",
         "22.0",
         "22.0"
        ],
        [
         "16",
         "Afghanistan",
         "United States",
         "2017.0",
         null,
         "55.0",
         "?",
         "M-1117 Guardian",
         "APC",
         "55.0",
         null,
         "2018; 2019",
         "New",
         null,
         "0.4",
         "22.0",
         "22.0"
        ],
        [
         "18",
         "Afghanistan",
         "United States",
         "2018.0",
         null,
         "10.0",
         null,
         "Cessna-208 Caravan",
         "light transport aircraft",
         "10.0",
         null,
         "2018; 2019; 2020",
         "New",
         "$86 m deal; aid; armed Cessna-208B version",
         "1.0",
         "10.0",
         "10.0"
        ],
        [
         "19",
         "Afghanistan",
         "United States",
         "2017.0",
         null,
         "30.0",
         null,
         "MD-500E",
         "light helicopter",
         "30.0",
         null,
         "2018; 2019",
         "New",
         "Armed MD-530F version; Afghan designation Jengi",
         "0.7",
         "21.0",
         "21.0"
        ],
        [
         "24",
         "Afghanistan",
         "United States",
         "2015.0",
         "?",
         "12.0",
         null,
         "MD-500E",
         "light helicopter",
         "12.0",
         null,
         "2016",
         "New",
         "Armed MD-530F version",
         "0.7",
         "8.4",
         "8.4"
        ],
        [
         "26",
         "Afghanistan",
         "United States",
         "2012.0",
         "?",
         "4.0",
         null,
         "C-130H Hercules",
         "transport aircraft",
         "4.0",
         null,
         "2013; 2014; 2015",
         "Second hand",
         "Second-hand; aid",
         "11.2",
         "44.8",
         "44.8"
        ],
        [
         "27",
         "Afghanistan",
         "United States",
         "2016.0",
         null,
         "1673.0",
         null,
         "HMMWV-UA",
         "APC",
         "1673.0",
         null,
         "2016; 2017",
         "New",
         "$356 m deal; incl 1259 M-1151A1B1 and 414 M-1151A1B2 version",
         "0.13",
         "217.49",
         "217.49"
        ],
        [
         "30",
         "Afghanistan",
         "United States",
         "2014.0",
         null,
         "222.0",
         null,
         "MaxxPro",
         "APC",
         "222.0",
         null,
         "2015",
         "Second hand",
         "Second-hand; incl 20 recovery vehicle version; aid",
         "0.13",
         "28.42",
         "28.42"
        ],
        [
         "31",
         "Afghanistan",
         "United States",
         "2016.0",
         null,
         "433.0",
         null,
         "HMMWV-UA",
         "APC",
         "433.0",
         null,
         "2017",
         "New",
         "$109 m deal; incl 360 M-1152A1B2 and 73 M-1151A1B1 version",
         "0.13",
         "56.29",
         "56.29"
        ],
        [
         "32",
         "Afghanistan",
         "United States",
         "2012.0",
         "?",
         "136.0",
         "?",
         "M-1117 Guardian",
         "APC",
         "136.0",
         "?",
         "2013; 2014",
         "New",
         "MSFV version",
         "0.4",
         "54.4",
         "54.4"
        ],
        [
         "34",
         "Afghanistan",
         "United States",
         "2017.0",
         null,
         "4300.0",
         "?",
         "HMMWV-UA",
         "APC",
         "4300.0",
         null,
         "2018; 2019; 2020; 2021",
         "New",
         "Aid; more ordered but cancelled after Taliban took power in Afghanistan mid-2021",
         "0.13",
         "559.0",
         "559.0"
        ],
        [
         "35",
         "Afghanistan",
         "United States",
         "2015.0",
         null,
         "65.0",
         null,
         "ScanEagle",
         "UAV",
         "65.0",
         null,
         "2016; 2017; 2018",
         "New",
         "$71 m deal",
         "0.04",
         "2.6",
         "2.6"
        ],
        [
         "36",
         "Afghanistan",
         "United States",
         "2018.0",
         null,
         "35.0",
         null,
         "ScanEagle",
         "UAV",
         "35.0",
         null,
         "2019",
         "New",
         "$58 m deal (incl operational support)",
         "0.04",
         "1.4",
         "1.4"
        ],
        [
         "37",
         "Afghanistan",
         "United States",
         "2017.0",
         null,
         "5.0",
         "?",
         "ScanEagle",
         "UAV",
         "5.0",
         null,
         "2018",
         "New",
         "$19.6 m deal",
         "0.04",
         "0.2",
         "0.2"
        ],
        [
         "41",
         "Afghanistan",
         "United States",
         "2017.0",
         null,
         "1673.0",
         "?",
         "HMMWV-UA",
         "APC",
         "1673.0",
         null,
         "2018; 2019; 2020; 2021",
         "Second hand",
         "Second-hand; aid",
         "0.05",
         "87.0",
         "87.0"
        ],
        [
         "50",
         "Afghanistan",
         "United States",
         "2006.0",
         null,
         "800.0",
         "?",
         "HMMWV-UA",
         "APC",
         "800.0",
         null,
         "2007; 2008",
         "Second hand",
         "Second-hand; aid",
         "0.05",
         "41.6",
         "41.6"
        ],
        [
         "58",
         "Afghanistan",
         "United States",
         "2011.0",
         null,
         "41.0",
         "?",
         "M-1117 Guardian",
         "APC",
         "41.0",
         null,
         "2011; 2012",
         "New",
         null,
         "0.4",
         "16.4",
         "16.4"
        ],
        [
         "59",
         "Afghanistan",
         "United States",
         "2010.0",
         null,
         "4002.0",
         null,
         "HMMWV-UA",
         "APC",
         "4002.0",
         null,
         "2011; 2012; 2013",
         "New",
         "Part of $1 b deal; M-1152A1B2 version; incl for police",
         "0.13",
         "520.26",
         "520.26"
        ],
        [
         "60",
         "Afghanistan",
         "United States",
         "2011.0",
         null,
         "744.0",
         "?",
         "HMMWV-UA",
         "APC",
         "744.0",
         null,
         "2012",
         "New",
         null,
         "0.13",
         "96.72",
         "96.72"
        ],
        [
         "61",
         "Afghanistan",
         "United States",
         "2011.0",
         null,
         "26.0",
         null,
         "Cessna-208 Caravan",
         "light transport aircraft",
         "26.0",
         null,
         "2011; 2012",
         "New",
         "Part of $88 m deal; probably aid; Cessna-208B version",
         "1.0",
         "26.0",
         "26.0"
        ],
        [
         "62",
         "Afghanistan",
         "United States",
         "2011.0",
         null,
         "6.0",
         null,
         "Cessna-180 Skywagon",
         "light aircraft",
         "6.0",
         null,
         "2011",
         "New",
         "Part of $88 m deal; Cessna-182T version; for training",
         "0.18",
         "1.08",
         "1.08"
        ],
        [
         "83",
         "Afghanistan",
         "United States",
         "2008.0",
         null,
         "4735.0",
         "?",
         "HMMWV-UA",
         "APC",
         "4735.0",
         null,
         "2008; 2009; 2010; 2011",
         "New",
         "$760 m deal; aid; M-1151 and M-1152 versions",
         "0.13",
         "615.55",
         "615.55"
        ],
        [
         "85",
         "Afghanistan",
         "United States",
         "2010.0",
         null,
         "2566.0",
         null,
         "HMMWV-UA",
         "APC",
         "2566.0",
         null,
         "2011; 2012",
         "Second hand",
         "Second-hand; M-1114 version",
         "0.05",
         "133.43",
         "133.43"
        ],
        [
         "86",
         "Afghanistan",
         "United States",
         "2010.0",
         null,
         "237.0",
         "?",
         "HMMWV-UA",
         "APC",
         "237.0",
         null,
         "2012",
         "New",
         "$45 m deal; incl 137 M-1152 and 100 M-1151 version",
         "0.13",
         "30.81",
         "30.81"
        ],
        [
         "87",
         "Afghanistan",
         "United States",
         "2011.0",
         null,
         "6.0",
         null,
         "MD-500E",
         "light helicopter",
         "6.0",
         null,
         "2011",
         "New",
         "$17-20 m aid; MD-530F version; incl for training (but armed 2015)",
         "0.7",
         "4.2",
         "4.2"
        ],
        [
         "133",
         "Afghanistan",
         "United States",
         "2016.0",
         null,
         "53.0",
         null,
         "S-70 Black Hawk",
         "transport helicopter",
         "53.0",
         null,
         "2017; 2018; 2019; 2020",
         "Second hand but modernized",
         "Second-hand UH-60A modernized to UH-60A+ before delivery; aid",
         "4.29",
         "227.37",
         "227.37"
        ],
        [
         "137",
         "Afghanistan",
         "United States",
         "2017.0",
         "?",
         "250.0",
         "?",
         "Paveway",
         "guided bomb",
         "250.0",
         null,
         "2017; 2018; 2019",
         "New",
         "Paveway-2 version; for Super Tucano (A-29B) trainer/combat aircraft",
         "0.02",
         "5.0",
         "5.0"
        ],
        [
         "138",
         "Afghanistan",
         "United States",
         "2015.0",
         null,
         "55.0",
         null,
         "M-1117 Guardian",
         "APC",
         "55.0",
         null,
         "2015",
         "New",
         null,
         "0.4",
         "22.0",
         "22.0"
        ],
        [
         "147",
         "Afghanistan",
         "United States",
         "2004.0",
         "?",
         "188.0",
         "?",
         "M-113",
         "APC",
         "188.0",
         null,
         "2005",
         "Second hand",
         "Second-hand; aid; M-113A2 version; incl 15 M-577A2 command post version",
         "0.1",
         "18.8",
         "18.8"
        ],
        [
         "148",
         "Afghanistan",
         "United States",
         "2014.0",
         null,
         "12.0",
         null,
         "MD-500E",
         "light helicopter",
         "12.0",
         null,
         "2015",
         "New",
         "Armed MD-530F version",
         "0.7",
         "8.4",
         "8.4"
        ],
        [
         "151",
         "African Union**",
         "United States",
         "2015.0",
         "?",
         "20.0",
         null,
         "M-ATV",
         "APC",
         "20.0",
         null,
         "2015",
         "Second hand",
         "Second-hand; aid",
         "0.1",
         "2.0",
         "2.0"
        ],
        [
         "191",
         "Albania",
         "United States",
         "2018.0",
         null,
         "37.0",
         null,
         "MaxxPro",
         "APC",
         "37.0",
         null,
         "2019",
         "Second hand",
         "Second-hand; aid",
         "0.13",
         "4.74",
         "4.74"
        ],
        [
         "193",
         "Albania",
         "United States",
         "2016.0",
         null,
         "3.0",
         null,
         "MaxxPro",
         "APC",
         "3.0",
         null,
         "2017",
         "Second hand",
         "Second-hand",
         "0.13",
         "0.38",
         "0.38"
        ],
        [
         "194",
         "Albania",
         "United States",
         "2017.0",
         null,
         "77.0",
         "?",
         "HMMWV-UA",
         "APC",
         "77.0",
         null,
         "2018; 2020; 2021; 2023",
         "Second hand",
         "Second-hand; aid",
         "0.05",
         "4.0",
         "4.0"
        ],
        [
         "234",
         "Albania",
         "United States",
         "2022.0",
         null,
         null,
         null,
         "FGM-148 Javelin",
         "anti-tank missile",
         "0.0",
         null,
         null,
         "New",
         null,
         "0.03",
         "0.0",
         "0.0"
        ],
        [
         "236",
         "Albania",
         "United States",
         "2020.0",
         null,
         "3.0",
         null,
         "S-70 Black Hawk",
         "transport helicopter",
         "2.0",
         null,
         "2024",
         "Second hand",
         "Second-hand; aid",
         "2.6",
         "7.8",
         "5.2"
        ],
        [
         "237",
         "Algeria",
         "United States",
         "1981.0",
         null,
         "10.0",
         null,
         "C-130H Hercules",
         "transport aircraft",
         "10.0",
         null,
         "1981; 1982; 1983; 1984",
         "New",
         null,
         "28.0",
         "280.0",
         "280.0"
        ],
        [
         "239",
         "Algeria",
         "United States",
         "1981.0",
         null,
         "2.0",
         "?",
         "C-130H Hercules",
         "transport aircraft",
         "2.0",
         null,
         "1981",
         "New",
         "L-100-30 version; possibly officially delivered to civilian airline but used by Algerian air force; no. could be 3",
         "28.0",
         "56.0",
         "56.0"
        ],
        [
         "240",
         "Algeria",
         "United States",
         "2017.0",
         "?",
         "30.0",
         "?",
         "MaxxPro",
         "APC",
         "30.0",
         null,
         "2018; 2019; 2020",
         "New",
         null,
         "0.32",
         "9.6",
         "9.6"
        ],
        [
         "254",
         "Algeria",
         "United States",
         "1977.0",
         null,
         "3.0",
         null,
         "TPS-43",
         "air search radar",
         "3.0",
         null,
         "1984",
         "New",
         null,
         "9.0",
         "27.0",
         "27.0"
        ],
        [
         "296",
         "Algeria",
         "United States",
         "2009.0",
         "?",
         "8.0",
         null,
         "King Air",
         "light transport aircraft",
         "8.0",
         null,
         "2010; 2011",
         "New",
         "Incl 2 King Air C-90 and 6 King Air-300 or King Air-350 version",
         "2.85",
         "22.8",
         "22.8"
        ],
        [
         "313",
         "Algeria",
         "United States",
         "2012.0",
         null,
         "12.0",
         "?",
         "aircraft engine",
         "aircraft engine",
         "12.0",
         "?",
         "2015; 2016",
         "New",
         "LHTEC CTS-800-4N (1270hp) turboshaft for 6 Super Lynx ASW helicopters from UK",
         "0.5",
         "6.0",
         "6.0"
        ],
        [
         "335",
         "Algeria",
         "United States",
         "2012.0",
         null,
         "2.0",
         null,
         "LM-2500",
         "gas turbine",
         "2.0",
         null,
         "2016",
         "New",
         "For 2 MEKO-A200 frigates from FRG",
         "7.0",
         "14.0",
         "14.0"
        ],
        [
         "360",
         "Algeria",
         "United States",
         "2001.0",
         "?",
         "3.0",
         "?",
         "Bell-412",
         "helicopter",
         "3.0",
         null,
         "2002",
         "New",
         "Bell-412EP version; from Canadian production line",
         "5.0",
         "15.0",
         "15.0"
        ],
        [
         "363",
         "Algeria",
         "United States",
         "1989.0",
         "?",
         "1.0",
         null,
         "C-130H Hercules",
         "transport aircraft",
         "1.0",
         null,
         "1990",
         "New",
         "C-130H-30 version",
         "28.0",
         "28.0",
         "28.0"
        ],
        [
         "364",
         "Algeria",
         "United States",
         "1982.0",
         null,
         "2.0",
         "?",
         "C-130H Hercules",
         "transport aircraft",
         "2.0",
         null,
         "1983",
         "New",
         "C-130H-30 version",
         "28.0",
         "56.0",
         "56.0"
        ]
       ],
       "shape": {
        "columns": 16,
        "rows": 9427
       }
      },
      "text/html": [
       "<div>\n",
       "<style scoped>\n",
       "    .dataframe tbody tr th:only-of-type {\n",
       "        vertical-align: middle;\n",
       "    }\n",
       "\n",
       "    .dataframe tbody tr th {\n",
       "        vertical-align: top;\n",
       "    }\n",
       "\n",
       "    .dataframe thead th {\n",
       "        text-align: right;\n",
       "    }\n",
       "</style>\n",
       "<table border=\"1\" class=\"dataframe\">\n",
       "  <thead>\n",
       "    <tr style=\"text-align: right;\">\n",
       "      <th></th>\n",
       "      <th>Recipient</th>\n",
       "      <th>Supplier</th>\n",
       "      <th>Year of order</th>\n",
       "      <th></th>\n",
       "      <th>Number ordered</th>\n",
       "      <th>.1</th>\n",
       "      <th>Weapon designation</th>\n",
       "      <th>Weapon description</th>\n",
       "      <th>Number delivered</th>\n",
       "      <th>.2</th>\n",
       "      <th>Year(s) of delivery</th>\n",
       "      <th>status</th>\n",
       "      <th>Comments</th>\n",
       "      <th>SIPRI TIV per unit</th>\n",
       "      <th>SIPRI TIV for total order</th>\n",
       "      <th>SIPRI TIV of delivered weapons</th>\n",
       "    </tr>\n",
       "  </thead>\n",
       "  <tbody>\n",
       "    <tr>\n",
       "      <th>11</th>\n",
       "      <td>Afghanistan</td>\n",
       "      <td>United States</td>\n",
       "      <td>2012.0</td>\n",
       "      <td>NaN</td>\n",
       "      <td>71.0</td>\n",
       "      <td>NaN</td>\n",
       "      <td>M-1117 Guardian</td>\n",
       "      <td>APC</td>\n",
       "      <td>71.0</td>\n",
       "      <td>NaN</td>\n",
       "      <td>2014</td>\n",
       "      <td>New</td>\n",
       "      <td>$79 m deal; MSFV version</td>\n",
       "      <td>0.40</td>\n",
       "      <td>28.40</td>\n",
       "      <td>28.40</td>\n",
       "    </tr>\n",
       "    <tr>\n",
       "      <th>12</th>\n",
       "      <td>Afghanistan</td>\n",
       "      <td>United States</td>\n",
       "      <td>2011.0</td>\n",
       "      <td>NaN</td>\n",
       "      <td>240.0</td>\n",
       "      <td>NaN</td>\n",
       "      <td>M-1117 Guardian</td>\n",
       "      <td>APC</td>\n",
       "      <td>240.0</td>\n",
       "      <td>NaN</td>\n",
       "      <td>2012; 2013</td>\n",
       "      <td>New</td>\n",
       "      <td>$257 m deal; MSFV version; incl command; ARV; ...</td>\n",
       "      <td>0.40</td>\n",
       "      <td>96.00</td>\n",
       "      <td>96.00</td>\n",
       "    </tr>\n",
       "    <tr>\n",
       "      <th>13</th>\n",
       "      <td>Afghanistan</td>\n",
       "      <td>United States</td>\n",
       "      <td>2013.0</td>\n",
       "      <td>NaN</td>\n",
       "      <td>135.0</td>\n",
       "      <td>NaN</td>\n",
       "      <td>M-1117 Guardian</td>\n",
       "      <td>APC</td>\n",
       "      <td>135.0</td>\n",
       "      <td>?</td>\n",
       "      <td>2014; 2015</td>\n",
       "      <td>New</td>\n",
       "      <td>$113 m deal; MSFV version</td>\n",
       "      <td>0.40</td>\n",
       "      <td>54.00</td>\n",
       "      <td>54.00</td>\n",
       "    </tr>\n",
       "    <tr>\n",
       "      <th>14</th>\n",
       "      <td>Afghanistan</td>\n",
       "      <td>United States</td>\n",
       "      <td>2019.0</td>\n",
       "      <td>NaN</td>\n",
       "      <td>12.0</td>\n",
       "      <td>NaN</td>\n",
       "      <td>MD-500E</td>\n",
       "      <td>light helicopter</td>\n",
       "      <td>12.0</td>\n",
       "      <td>NaN</td>\n",
       "      <td>2020; 2021</td>\n",
       "      <td>New</td>\n",
       "      <td>Armed MD-530F version; Afghan designation Jengi</td>\n",
       "      <td>0.70</td>\n",
       "      <td>8.40</td>\n",
       "      <td>8.40</td>\n",
       "    </tr>\n",
       "    <tr>\n",
       "      <th>15</th>\n",
       "      <td>Afghanistan</td>\n",
       "      <td>United States</td>\n",
       "      <td>2019.0</td>\n",
       "      <td>?</td>\n",
       "      <td>55.0</td>\n",
       "      <td>?</td>\n",
       "      <td>M-1117 Guardian</td>\n",
       "      <td>APC</td>\n",
       "      <td>55.0</td>\n",
       "      <td>NaN</td>\n",
       "      <td>2020</td>\n",
       "      <td>New</td>\n",
       "      <td>Aid; MSFV version</td>\n",
       "      <td>0.40</td>\n",
       "      <td>22.00</td>\n",
       "      <td>22.00</td>\n",
       "    </tr>\n",
       "    <tr>\n",
       "      <th>...</th>\n",
       "      <td>...</td>\n",
       "      <td>...</td>\n",
       "      <td>...</td>\n",
       "      <td>...</td>\n",
       "      <td>...</td>\n",
       "      <td>...</td>\n",
       "      <td>...</td>\n",
       "      <td>...</td>\n",
       "      <td>...</td>\n",
       "      <td>...</td>\n",
       "      <td>...</td>\n",
       "      <td>...</td>\n",
       "      <td>...</td>\n",
       "      <td>...</td>\n",
       "      <td>...</td>\n",
       "      <td>...</td>\n",
       "    </tr>\n",
       "    <tr>\n",
       "      <th>29350</th>\n",
       "      <td>Zambia</td>\n",
       "      <td>United States</td>\n",
       "      <td>2023.0</td>\n",
       "      <td>NaN</td>\n",
       "      <td>2.0</td>\n",
       "      <td>NaN</td>\n",
       "      <td>Enstrom-480</td>\n",
       "      <td>light helicopter</td>\n",
       "      <td>2.0</td>\n",
       "      <td>NaN</td>\n",
       "      <td>2024</td>\n",
       "      <td>New</td>\n",
       "      <td>Enstrom-480B version; incl for training</td>\n",
       "      <td>0.40</td>\n",
       "      <td>0.80</td>\n",
       "      <td>0.80</td>\n",
       "    </tr>\n",
       "    <tr>\n",
       "      <th>29361</th>\n",
       "      <td>Zambia</td>\n",
       "      <td>United States</td>\n",
       "      <td>2023.0</td>\n",
       "      <td>NaN</td>\n",
       "      <td>4.0</td>\n",
       "      <td>NaN</td>\n",
       "      <td>Bell-412</td>\n",
       "      <td>helicopter</td>\n",
       "      <td>1.0</td>\n",
       "      <td>NaN</td>\n",
       "      <td>2023</td>\n",
       "      <td>New</td>\n",
       "      <td>$80 m deal; aid; Bell-412EP version</td>\n",
       "      <td>5.00</td>\n",
       "      <td>20.00</td>\n",
       "      <td>5.00</td>\n",
       "    </tr>\n",
       "    <tr>\n",
       "      <th>29436</th>\n",
       "      <td>Zambia</td>\n",
       "      <td>United States</td>\n",
       "      <td>2015.0</td>\n",
       "      <td>NaN</td>\n",
       "      <td>4.0</td>\n",
       "      <td>NaN</td>\n",
       "      <td>aircraft engine</td>\n",
       "      <td>aircraft engine</td>\n",
       "      <td>4.0</td>\n",
       "      <td>NaN</td>\n",
       "      <td>2019</td>\n",
       "      <td>New</td>\n",
       "      <td>Allison AE-2100D3 (5000hp) turboprop for 2 C-2...</td>\n",
       "      <td>1.50</td>\n",
       "      <td>6.00</td>\n",
       "      <td>6.00</td>\n",
       "    </tr>\n",
       "    <tr>\n",
       "      <th>29466</th>\n",
       "      <td>Zimbabwe</td>\n",
       "      <td>United States</td>\n",
       "      <td>1967.0</td>\n",
       "      <td>?</td>\n",
       "      <td>1.0</td>\n",
       "      <td>NaN</td>\n",
       "      <td>Baron</td>\n",
       "      <td>light aircraft</td>\n",
       "      <td>1.0</td>\n",
       "      <td>NaN</td>\n",
       "      <td>1967</td>\n",
       "      <td>New</td>\n",
       "      <td>For VIP transport</td>\n",
       "      <td>0.70</td>\n",
       "      <td>0.70</td>\n",
       "      <td>0.70</td>\n",
       "    </tr>\n",
       "    <tr>\n",
       "      <th>29470</th>\n",
       "      <td>Zimbabwe</td>\n",
       "      <td>United States</td>\n",
       "      <td>1993.0</td>\n",
       "      <td>?</td>\n",
       "      <td>2.0</td>\n",
       "      <td>NaN</td>\n",
       "      <td>Cessna-337/O-2</td>\n",
       "      <td>light aircraft</td>\n",
       "      <td>2.0</td>\n",
       "      <td>NaN</td>\n",
       "      <td>1993</td>\n",
       "      <td>Second hand</td>\n",
       "      <td>Second-hand; for anti-poaching operations</td>\n",
       "      <td>0.14</td>\n",
       "      <td>0.28</td>\n",
       "      <td>0.28</td>\n",
       "    </tr>\n",
       "  </tbody>\n",
       "</table>\n",
       "<p>9427 rows × 16 columns</p>\n",
       "</div>"
      ],
      "text/plain": [
       "         Recipient       Supplier  Year of order       Number ordered   .1  \\\n",
       "11     Afghanistan  United States         2012.0  NaN            71.0  NaN   \n",
       "12     Afghanistan  United States         2011.0  NaN           240.0  NaN   \n",
       "13     Afghanistan  United States         2013.0  NaN           135.0  NaN   \n",
       "14     Afghanistan  United States         2019.0  NaN            12.0  NaN   \n",
       "15     Afghanistan  United States         2019.0    ?            55.0    ?   \n",
       "...            ...            ...            ...  ...             ...  ...   \n",
       "29350       Zambia  United States         2023.0  NaN             2.0  NaN   \n",
       "29361       Zambia  United States         2023.0  NaN             4.0  NaN   \n",
       "29436       Zambia  United States         2015.0  NaN             4.0  NaN   \n",
       "29466     Zimbabwe  United States         1967.0    ?             1.0  NaN   \n",
       "29470     Zimbabwe  United States         1993.0    ?             2.0  NaN   \n",
       "\n",
       "      Weapon designation Weapon description  Number delivered   .2  \\\n",
       "11       M-1117 Guardian                APC              71.0  NaN   \n",
       "12       M-1117 Guardian                APC             240.0  NaN   \n",
       "13       M-1117 Guardian                APC             135.0    ?   \n",
       "14               MD-500E   light helicopter              12.0  NaN   \n",
       "15       M-1117 Guardian                APC              55.0  NaN   \n",
       "...                  ...                ...               ...  ...   \n",
       "29350        Enstrom-480   light helicopter               2.0  NaN   \n",
       "29361           Bell-412         helicopter               1.0  NaN   \n",
       "29436    aircraft engine    aircraft engine               4.0  NaN   \n",
       "29466              Baron     light aircraft               1.0  NaN   \n",
       "29470     Cessna-337/O-2     light aircraft               2.0  NaN   \n",
       "\n",
       "      Year(s) of delivery       status  \\\n",
       "11                   2014          New   \n",
       "12             2012; 2013          New   \n",
       "13             2014; 2015          New   \n",
       "14             2020; 2021          New   \n",
       "15                   2020          New   \n",
       "...                   ...          ...   \n",
       "29350                2024          New   \n",
       "29361                2023          New   \n",
       "29436                2019          New   \n",
       "29466                1967          New   \n",
       "29470                1993  Second hand   \n",
       "\n",
       "                                                Comments  SIPRI TIV per unit  \\\n",
       "11                              $79 m deal; MSFV version                0.40   \n",
       "12     $257 m deal; MSFV version; incl command; ARV; ...                0.40   \n",
       "13                             $113 m deal; MSFV version                0.40   \n",
       "14       Armed MD-530F version; Afghan designation Jengi                0.70   \n",
       "15                                     Aid; MSFV version                0.40   \n",
       "...                                                  ...                 ...   \n",
       "29350            Enstrom-480B version; incl for training                0.40   \n",
       "29361                $80 m deal; aid; Bell-412EP version                5.00   \n",
       "29436  Allison AE-2100D3 (5000hp) turboprop for 2 C-2...                1.50   \n",
       "29466                                  For VIP transport                0.70   \n",
       "29470          Second-hand; for anti-poaching operations                0.14   \n",
       "\n",
       "       SIPRI TIV for total order  SIPRI TIV of delivered weapons  \n",
       "11                         28.40                           28.40  \n",
       "12                         96.00                           96.00  \n",
       "13                         54.00                           54.00  \n",
       "14                          8.40                            8.40  \n",
       "15                         22.00                           22.00  \n",
       "...                          ...                             ...  \n",
       "29350                       0.80                            0.80  \n",
       "29361                      20.00                            5.00  \n",
       "29436                       6.00                            6.00  \n",
       "29466                       0.70                            0.70  \n",
       "29470                       0.28                            0.28  \n",
       "\n",
       "[9427 rows x 16 columns]"
      ]
     },
     "execution_count": 18,
     "metadata": {},
     "output_type": "execute_result"
    }
   ],
   "source": [
    "# Look at the Ukraine data (as a recipient)\n",
    "df_arms_ukraine = df_arms[df_arms['Recipient'] == 'Ukraine']\n",
    "df_arms_ukraine\n",
    "\n",
    "# Look at the US data (as a supplier)\n",
    "df_arms_us = df_arms[df_arms['Supplier'] == 'United States']\n",
    "df_arms_us"
   ]
  },
  {
   "cell_type": "code",
   "execution_count": 19,
   "metadata": {},
   "outputs": [
    {
     "data": {
      "text/plain": [
       "<Axes: xlabel='Year of order'>"
      ]
     },
     "execution_count": 19,
     "metadata": {},
     "output_type": "execute_result"
    },
    {
     "data": {
      "image/png": "[encoded data removed]",
      "text/plain": [
       "<Figure size 640x480 with 1 Axes>"
      ]
     },
     "metadata": {},
     "output_type": "display_data"
    }
   ],
   "source": [
    "# Plot the evolution of SIPRI TIV of delivered weapons with Year of order as a barplot for ukraine\n",
    "df_arms_ukraine.loc[:,'Year of order'] = df_arms_ukraine['Year of order'].astype(int)\n",
    "df_arms_ukraine.loc[:,'SIPRI TIV of delivered weapons'] = df_arms_ukraine['SIPRI TIV of delivered weapons'].astype(float)\n",
    "df_arms_ukraine.groupby('Year of order')['SIPRI TIV of delivered weapons'].sum().plot(kind='bar')"
   ]
  },
  {
   "cell_type": "code",
   "execution_count": 20,
   "metadata": {},
   "outputs": [
    {
     "data": {
      "text/plain": [
       "<Axes: xlabel='Year of order'>"
      ]
     },
     "execution_count": 20,
     "metadata": {},
     "output_type": "execute_result"
    },
    {
     "data": {
      "image/png": "[encoded data removed]",
      "text/plain": [
       "<Figure size 2000x500 with 1 Axes>"
      ]
     },
     "metadata": {},
     "output_type": "display_data"
    }
   ],
   "source": [
    "# Plot the evolution of SIPRI TIV of delivered weapons with Year of order as a barplot for US\n",
    "df_arms_us.loc[:,'Year of order'] = df_arms_us['Year of order'].astype(int)\n",
    "df_arms_us.loc[:,'SIPRI TIV of delivered weapons'] = df_arms_us['SIPRI TIV of delivered weapons'].astype(float)\n",
    "df_arms_us.groupby('Year of order')['SIPRI TIV of delivered weapons'].sum().plot(kind='bar', figsize=(20,5))"
   ]
  },
  {
   "cell_type": "code",
   "execution_count": null,
   "metadata": {},
   "outputs": [],
   "source": []
  },
  {
   "cell_type": "code",
   "execution_count": 25,
   "metadata": {},
   "outputs": [
    {
     "data": {
      "application/vnd.plotly.v1+json": {
       "config": {
        "plotlyServerURL": "https://plot.ly"
       },
       "data": [
        {
         "link": {
          "source": [
           0,
           0,
           0,
           0,
           0,
           0,
           0,
           0,
           0,
           0,
           0,
           0,
           0,
           0,
           0,
           0,
           0,
           0,
           0,
           0,
           0,
           0,
           0,
           0,
           0,
           0,
           0,
           0,
           0,
           0,
           0,
           0,
           0,
           0,
           0,
           0,
           0,
           0,
           0,
           0,
           0,
           0,
           0,
           0,
           0,
           0,
           0,
           0,
           0,
           0,
           0,
           0,
           0,
           0,
           0,
           0,
           0,
           0,
           0
          ],
          "target": [
           1,
           2,
           3,
           4,
           5,
           6,
           7,
           8,
           9,
           10,
           11,
           12,
           13,
           14,
           15,
           16,
           17,
           18,
           19,
           20,
           21,
           22,
           23,
           24,
           25,
           26,
           27,
           28,
           29,
           30,
           31,
           32,
           33,
           34,
           35,
           36,
           37,
           38,
           39,
           40,
           41,
           42,
           43,
           44,
           45,
           46,
           47,
           48,
           49,
           50,
           51,
           52,
           53,
           54,
           55,
           56,
           57,
           58,
           59
          ],
          "value": [
           0,
           10.4,
           0,
           3,
           0,
           0.1,
           11.2,
           0,
           0.52,
           0,
           0,
           11.2,
           25.8,
           0,
           2.8,
           0,
           3.36,
           1.3,
           0,
           0,
           0,
           6.3,
           150.9,
           0,
           0,
           0,
           0,
           0,
           0,
           0,
           0,
           0,
           0,
           0,
           0,
           0,
           3,
           3.85,
           0,
           18.9,
           0,
           0.3,
           0,
           0,
           3,
           0,
           8.8,
           0,
           0,
           0,
           0,
           0,
           0,
           4.22,
           636.72,
           0,
           2.8,
           5.8,
           0
          ]
         },
         "node": {
          "color": "teal",
          "label": [
           "US",
           "Angola",
           "Argentina",
           "Australia",
           "Azerbaijan",
           "Belgium",
           "Bolivia",
           "Canada",
           "Chile",
           "Colombia",
           "Czechia",
           "Denmark",
           "Ecuador",
           "Egypt",
           "Finland",
           "France",
           "Germany",
           "Ghana",
           "Guatemala",
           "Honduras",
           "India",
           "Indonesia",
           "Iraq",
           "Israel",
           "Italy",
           "Japan",
           "Jordan",
           "Latvia",
           "Lithuania",
           "Malaysia",
           "Mexico",
           "Mongolia",
           "Morocco",
           "NATO**",
           "Netherlands",
           "Nigeria",
           "Norway",
           "Pakistan",
           "Peru",
           "Philippines",
           "Poland",
           "Romania",
           "Serbia",
           "Singapore",
           "Slovakia",
           "Slovenia",
           "South Korea",
           "Spain",
           "Sweden",
           "Switzerland",
           "Taiwan",
           "Tanzania",
           "Thailand",
           "Turkiye",
           "UAE",
           "Ukraine",
           "United Kingdom",
           "Uruguay",
           "Zambia",
           "unknown recipient(s)"
          ],
          "line": {
           "color": "black",
           "width": 0
          },
          "pad": 15,
          "thickness": 20
         },
         "type": "sankey"
        }
       ],
       "layout": {
        "font": {
         "size": 10
        },
        "template": {
         "data": {
          "bar": [
           {
            "error_x": {
             "color": "#2a3f5f"
            },
            "error_y": {
             "color": "#2a3f5f"
            },
            "marker": {
             "line": {
              "color": "#E5ECF6",
              "width": 0.5
             },
             "pattern": {
              "fillmode": "overlay",
              "size": 10,
              "solidity": 0.2
             }
            },
            "type": "bar"
           }
          ],
          "barpolar": [
           {
            "marker": {
             "line": {
              "color": "#E5ECF6",
              "width": 0.5
             },
             "pattern": {
              "fillmode": "overlay",
              "size": 10,
              "solidity": 0.2
             }
            },
            "type": "barpolar"
           }
          ],
          "carpet": [
           {
            "aaxis": {
             "endlinecolor": "#2a3f5f",
             "gridcolor": "white",
             "linecolor": "white",
             "minorgridcolor": "white",
             "startlinecolor": "#2a3f5f"
            },
            "baxis": {
             "endlinecolor": "#2a3f5f",
             "gridcolor": "white",
             "linecolor": "white",
             "minorgridcolor": "white",
             "startlinecolor": "#2a3f5f"
            },
            "type": "carpet"
           }
          ],
          "choropleth": [
           {
            "colorbar": {
             "outlinewidth": 0,
             "ticks": ""
            },
            "type": "choropleth"
           }
          ],
          "contour": [
           {
            "colorbar": {
             "outlinewidth": 0,
             "ticks": ""
            },
            "colorscale": [
             [
              0,
              "#0d0887"
             ],
             [
              0.1111111111111111,
              "#46039f"
             ],
             [
              0.2222222222222222,
              "#7201a8"
             ],
             [
              0.3333333333333333,
              "#9c179e"
             ],
             [
              0.4444444444444444,
              "#bd3786"
             ],
             [
              0.5555555555555556,
              "#d8576b"
             ],
             [
              0.6666666666666666,
              "#ed7953"
             ],
             [
              0.7777777777777778,
              "#fb9f3a"
             ],
             [
              0.8888888888888888,
              "#fdca26"
             ],
             [
              1,
              "#f0f921"
             ]
            ],
            "type": "contour"
           }
          ],
          "contourcarpet": [
           {
            "colorbar": {
             "outlinewidth": 0,
             "ticks": ""
            },
            "type": "contourcarpet"
           }
          ],
          "heatmap": [
           {
            "colorbar": {
             "outlinewidth": 0,
             "ticks": ""
            },
            "colorscale": [
             [
              0,
              "#0d0887"
             ],
             [
              0.1111111111111111,
              "#46039f"
             ],
             [
              0.2222222222222222,
              "#7201a8"
             ],
             [
              0.3333333333333333,
              "#9c179e"
             ],
             [
              0.4444444444444444,
              "#bd3786"
             ],
             [
              0.5555555555555556,
              "#d8576b"
             ],
             [
              0.6666666666666666,
              "#ed7953"
             ],
             [
              0.7777777777777778,
              "#fb9f3a"
             ],
             [
              0.8888888888888888,
              "#fdca26"
             ],
             [
              1,
              "#f0f921"
             ]
            ],
            "type": "heatmap"
           }
          ],
          "heatmapgl": [
           {
            "colorbar": {
             "outlinewidth": 0,
             "ticks": ""
            },
            "colorscale": [
             [
              0,
              "#0d0887"
             ],
             [
              0.1111111111111111,
              "#46039f"
             ],
             [
              0.2222222222222222,
              "#7201a8"
             ],
             [
              0.3333333333333333,
              "#9c179e"
             ],
             [
              0.4444444444444444,
              "#bd3786"
             ],
             [
              0.5555555555555556,
              "#d8576b"
             ],
             [
              0.6666666666666666,
              "#ed7953"
             ],
             [
              0.7777777777777778,
              "#fb9f3a"
             ],
             [
              0.8888888888888888,
              "#fdca26"
             ],
             [
              1,
              "#f0f921"
             ]
            ],
            "type": "heatmapgl"
           }
          ],
          "histogram": [
           {
            "marker": {
             "pattern": {
              "fillmode": "overlay",
              "size": 10,
              "solidity": 0.2
             }
            },
            "type": "histogram"
           }
          ],
          "histogram2d": [
           {
            "colorbar": {
             "outlinewidth": 0,
             "ticks": ""
            },
            "colorscale": [
             [
              0,
              "#0d0887"
             ],
             [
              0.1111111111111111,
              "#46039f"
             ],
             [
              0.2222222222222222,
              "#7201a8"
             ],
             [
              0.3333333333333333,
              "#9c179e"
             ],
             [
              0.4444444444444444,
              "#bd3786"
             ],
             [
              0.5555555555555556,
              "#d8576b"
             ],
             [
              0.6666666666666666,
              "#ed7953"
             ],
             [
              0.7777777777777778,
              "#fb9f3a"
             ],
             [
              0.8888888888888888,
              "#fdca26"
             ],
             [
              1,
              "#f0f921"
             ]
            ],
            "type": "histogram2d"
           }
          ],
          "histogram2dcontour": [
           {
            "colorbar": {
             "outlinewidth": 0,
             "ticks": ""
            },
            "colorscale": [
             [
              0,
              "#0d0887"
             ],
             [
              0.1111111111111111,
              "#46039f"
             ],
             [
              0.2222222222222222,
              "#7201a8"
             ],
             [
              0.3333333333333333,
              "#9c179e"
             ],
             [
              0.4444444444444444,
              "#bd3786"
             ],
             [
              0.5555555555555556,
              "#d8576b"
             ],
             [
              0.6666666666666666,
              "#ed7953"
             ],
             [
              0.7777777777777778,
              "#fb9f3a"
             ],
             [
              0.8888888888888888,
              "#fdca26"
             ],
             [
              1,
              "#f0f921"
             ]
            ],
            "type": "histogram2dcontour"
           }
          ],
          "mesh3d": [
           {
            "colorbar": {
             "outlinewidth": 0,
             "ticks": ""
            },
            "type": "mesh3d"
           }
          ],
          "parcoords": [
           {
            "line": {
             "colorbar": {
              "outlinewidth": 0,
              "ticks": ""
             }
            },
            "type": "parcoords"
           }
          ],
          "pie": [
           {
            "automargin": true,
            "type": "pie"
           }
          ],
          "scatter": [
           {
            "fillpattern": {
             "fillmode": "overlay",
             "size": 10,
             "solidity": 0.2
            },
            "type": "scatter"
           }
          ],
          "scatter3d": [
           {
            "line": {
             "colorbar": {
              "outlinewidth": 0,
              "ticks": ""
             }
            },
            "marker": {
             "colorbar": {
              "outlinewidth": 0,
              "ticks": ""
             }
            },
            "type": "scatter3d"
           }
          ],
          "scattercarpet": [
           {
            "marker": {
             "colorbar": {
              "outlinewidth": 0,
              "ticks": ""
             }
            },
            "type": "scattercarpet"
           }
          ],
          "scattergeo": [
           {
            "marker": {
             "colorbar": {
              "outlinewidth": 0,
              "ticks": ""
             }
            },
            "type": "scattergeo"
           }
          ],
          "scattergl": [
           {
            "marker": {
             "colorbar": {
              "outlinewidth": 0,
              "ticks": ""
             }
            },
            "type": "scattergl"
           }
          ],
          "scattermapbox": [
           {
            "marker": {
             "colorbar": {
              "outlinewidth": 0,
              "ticks": ""
             }
            },
            "type": "scattermapbox"
           }
          ],
          "scatterpolar": [
           {
            "marker": {
             "colorbar": {
              "outlinewidth": 0,
              "ticks": ""
             }
            },
            "type": "scatterpolar"
           }
          ],
          "scatterpolargl": [
           {
            "marker": {
             "colorbar": {
              "outlinewidth": 0,
              "ticks": ""
             }
            },
            "type": "scatterpolargl"
           }
          ],
          "scatterternary": [
           {
            "marker": {
             "colorbar": {
              "outlinewidth": 0,
              "ticks": ""
             }
            },
            "type": "scatterternary"
           }
          ],
          "surface": [
           {
            "colorbar": {
             "outlinewidth": 0,
             "ticks": ""
            },
            "colorscale": [
             [
              0,
              "#0d0887"
             ],
             [
              0.1111111111111111,
              "#46039f"
             ],
             [
              0.2222222222222222,
              "#7201a8"
             ],
             [
              0.3333333333333333,
              "#9c179e"
             ],
             [
              0.4444444444444444,
              "#bd3786"
             ],
             [
              0.5555555555555556,
              "#d8576b"
             ],
             [
              0.6666666666666666,
              "#ed7953"
             ],
             [
              0.7777777777777778,
              "#fb9f3a"
             ],
             [
              0.8888888888888888,
              "#fdca26"
             ],
             [
              1,
              "#f0f921"
             ]
            ],
            "type": "surface"
           }
          ],
          "table": [
           {
            "cells": {
             "fill": {
              "color": "#EBF0F8"
             },
             "line": {
              "color": "white"
             }
            },
            "header": {
             "fill": {
              "color": "#C8D4E3"
             },
             "line": {
              "color": "white"
             }
            },
            "type": "table"
           }
          ]
         },
         "layout": {
          "annotationdefaults": {
           "arrowcolor": "#2a3f5f",
           "arrowhead": 0,
           "arrowwidth": 1
          },
          "autotypenumbers": "strict",
          "coloraxis": {
           "colorbar": {
            "outlinewidth": 0,
            "ticks": ""
           }
          },
          "colorscale": {
           "diverging": [
            [
             0,
             "#8e0152"
            ],
            [
             0.1,
             "#c51b7d"
            ],
            [
             0.2,
             "#de77ae"
            ],
            [
             0.3,
             "#f1b6da"
            ],
            [
             0.4,
             "#fde0ef"
            ],
            [
             0.5,
             "#f7f7f7"
            ],
            [
             0.6,
             "#e6f5d0"
            ],
            [
             0.7,
             "#b8e186"
            ],
            [
             0.8,
             "#7fbc41"
            ],
            [
             0.9,
             "#4d9221"
            ],
            [
             1,
             "#276419"
            ]
           ],
           "sequential": [
            [
             0,
             "#0d0887"
            ],
            [
             0.1111111111111111,
             "#46039f"
            ],
            [
             0.2222222222222222,
             "#7201a8"
            ],
            [
             0.3333333333333333,
             "#9c179e"
            ],
            [
             0.4444444444444444,
             "#bd3786"
            ],
            [
             0.5555555555555556,
             "#d8576b"
            ],
            [
             0.6666666666666666,
             "#ed7953"
            ],
            [
             0.7777777777777778,
             "#fb9f3a"
            ],
            [
             0.8888888888888888,
             "#fdca26"
            ],
            [
             1,
             "#f0f921"
            ]
           ],
           "sequentialminus": [
            [
             0,
             "#0d0887"
            ],
            [
             0.1111111111111111,
             "#46039f"
            ],
            [
             0.2222222222222222,
             "#7201a8"
            ],
            [
             0.3333333333333333,
             "#9c179e"
            ],
            [
             0.4444444444444444,
             "#bd3786"
            ],
            [
             0.5555555555555556,
             "#d8576b"
            ],
            [
             0.6666666666666666,
             "#ed7953"
            ],
            [
             0.7777777777777778,
             "#fb9f3a"
            ],
            [
             0.8888888888888888,
             "#fdca26"
            ],
            [
             1,
             "#f0f921"
            ]
           ]
          },
          "colorway": [
           "#636efa",
           "#EF553B",
           "#00cc96",
           "#ab63fa",
           "#FFA15A",
           "#19d3f3",
           "#FF6692",
           "#B6E880",
           "#FF97FF",
           "#FECB52"
          ],
          "font": {
           "color": "#2a3f5f"
          },
          "geo": {
           "bgcolor": "white",
           "lakecolor": "white",
           "landcolor": "#E5ECF6",
           "showlakes": true,
           "showland": true,
           "subunitcolor": "white"
          },
          "hoverlabel": {
           "align": "left"
          },
          "hovermode": "closest",
          "mapbox": {
           "style": "light"
          },
          "paper_bgcolor": "white",
          "plot_bgcolor": "#E5ECF6",
          "polar": {
           "angularaxis": {
            "gridcolor": "white",
            "linecolor": "white",
            "ticks": ""
           },
           "bgcolor": "#E5ECF6",
           "radialaxis": {
            "gridcolor": "white",
            "linecolor": "white",
            "ticks": ""
           }
          },
          "scene": {
           "xaxis": {
            "backgroundcolor": "#E5ECF6",
            "gridcolor": "white",
            "gridwidth": 2,
            "linecolor": "white",
            "showbackground": true,
            "ticks": "",
            "zerolinecolor": "white"
           },
           "yaxis": {
            "backgroundcolor": "#E5ECF6",
            "gridcolor": "white",
            "gridwidth": 2,
            "linecolor": "white",
            "showbackground": true,
            "ticks": "",
            "zerolinecolor": "white"
           },
           "zaxis": {
            "backgroundcolor": "#E5ECF6",
            "gridcolor": "white",
            "gridwidth": 2,
            "linecolor": "white",
            "showbackground": true,
            "ticks": "",
            "zerolinecolor": "white"
           }
          },
          "shapedefaults": {
           "line": {
            "color": "#2a3f5f"
           }
          },
          "ternary": {
           "aaxis": {
            "gridcolor": "white",
            "linecolor": "white",
            "ticks": ""
           },
           "baxis": {
            "gridcolor": "white",
            "linecolor": "white",
            "ticks": ""
           },
           "bgcolor": "#E5ECF6",
           "caxis": {
            "gridcolor": "white",
            "linecolor": "white",
            "ticks": ""
           }
          },
          "title": {
           "x": 0.05
          },
          "xaxis": {
           "automargin": true,
           "gridcolor": "white",
           "linecolor": "white",
           "ticks": "",
           "title": {
            "standoff": 15
           },
           "zerolinecolor": "white",
           "zerolinewidth": 2
          },
          "yaxis": {
           "automargin": true,
           "gridcolor": "white",
           "linecolor": "white",
           "ticks": "",
           "title": {
            "standoff": 15
           },
           "zerolinecolor": "white",
           "zerolinewidth": 2
          }
         }
        },
        "title": {
         "text": "US Arms Sales in 2023"
        }
       }
      }
     },
     "metadata": {},
     "output_type": "display_data"
    }
   ],
   "source": [
    "# Filter for orders in 2024\n",
    "df_arms_us_2023 = df_arms_us[df_arms_us['Year of order'] == 2023]\n",
    "\n",
    "# Aggregate the delivered weapons by recipient\n",
    "recipient_flows = df_arms_us_2023.groupby('Recipient')['SIPRI TIV of delivered weapons'].sum()\n",
    "\n",
    "# Define the nodes: first node is 'US' and the rest are recipients\n",
    "node_labels = ['US'] + list(recipient_flows.index)\n",
    "\n",
    "# Define the links: all links originate from the 'US' node (index 0) and point to each recipient node.\n",
    "sources = [0] * len(recipient_flows)\n",
    "targets = list(range(1, len(recipient_flows) + 1))\n",
    "values = list(recipient_flows)\n",
    "\n",
    "# Create the Sankey diagram using Plotly\n",
    "fig = go.Figure(data=[go.Sankey(\n",
    "    node=dict(\n",
    "        pad=15,\n",
    "        thickness=20,\n",
    "        line=dict(color=\"black\", width=0.),\n",
    "        label=node_labels,\n",
    "        color=\"teal\"  \n",
    "    ),\n",
    "    link=dict(\n",
    "        source=sources,\n",
    "        target=targets,\n",
    "        value=values\n",
    "    )\n",
    ")])\n",
    "\n",
    "fig.update_layout(title_text=\"US Arms Sales in 2023\", font_size=10)\n",
    "fig.show()"
   ]
  },
  {
   "cell_type": "code",
   "execution_count": 22,
   "metadata": {},
   "outputs": [
    {
     "data": {
      "text/plain": [
       "<Axes: xlabel='Year of order'>"
      ]
     },
     "execution_count": 22,
     "metadata": {},
     "output_type": "execute_result"
    },
    {
     "data": {
      "image/png": "[encoded data removed]",
      "text/plain": [
       "<Figure size 2000x500 with 1 Axes>"
      ]
     },
     "metadata": {},
     "output_type": "display_data"
    }
   ],
   "source": [
    "# Streamngraph of evolution of all arms sales (all suppliers and recipients) since 1950 (with matplotlib stackplot)\n",
    "df_arms.loc[:,'Year of order'] = df_arms['Year of order'].astype(int)\n",
    "df_arms.loc[:,'SIPRI TIV of delivered weapons'] = df_arms['SIPRI TIV of delivered weapons'].astype(float)\n",
    "df_arms.groupby('Year of order')['SIPRI TIV of delivered weapons'].sum().plot(kind='area', figsize=(20,5))\n",
    "\n"
   ]
  },
  {
   "cell_type": "code",
   "execution_count": 23,
   "metadata": {},
   "outputs": [
    {
     "data": {
      "image/png": "[encoded data removed]",
      "text/plain": [
       "<Figure size 2000x500 with 1 Axes>"
      ]
     },
     "metadata": {},
     "output_type": "display_data"
    }
   ],
   "source": [
    "# Same streamgraph but colored by supplier countries, for top 10 suppliers, with matplotlib stackplot\n",
    "# Identify the top 10 suppliers based on total delivered weapons\n",
    "top_suppliers = df_arms.groupby('Supplier')['SIPRI TIV of delivered weapons'].sum().nlargest(10).index\n",
    "\n",
    "# Filter the DataFrame for only the top suppliers\n",
    "df_arms_top_suppliers = df_arms[df_arms['Supplier'].isin(top_suppliers)]\n",
    "\n",
    "# Pivot the data: index = Year of order, columns = Supplier, values = delivered weapons sum\n",
    "pivot_data = df_arms_top_suppliers.pivot_table(\n",
    "    index='Year of order',\n",
    "    columns='Supplier',\n",
    "    values='SIPRI TIV of delivered weapons',\n",
    "    aggfunc='sum'\n",
    ").fillna(0).sort_index()\n",
    "\n",
    "# Create the stackplot\n",
    "plt.figure(figsize=(20,5))\n",
    "plt.stackplot(pivot_data.index, pivot_data.T, labels=pivot_data.columns)\n",
    "plt.xlabel(\"Year of order\")\n",
    "plt.ylabel(\"SIPRI TIV of delivered weapons\")\n",
    "plt.title(\"Top 10 Suppliers' Delivered Weapons Over Time\")\n",
    "plt.legend(title='Supplier')\n",
    "plt.show()"
   ]
  },
  {
   "cell_type": "code",
   "execution_count": null,
   "metadata": {},
   "outputs": [],
   "source": []
  }
 ],
 "metadata": {
  "kernelspec": {
   "display_name": "Python 3",
   "language": "python",
   "name": "python3"
  },
  "language_info": {
   "codemirror_mode": {
    "name": "ipython",
    "version": 3
   },
   "file_extension": ".py",
   "mimetype": "text/x-python",
   "name": "python",
   "nbconvert_exporter": "python",
   "pygments_lexer": "ipython3",
   "version": "3.11.7"
  }
 },
 "nbformat": 4,
 "nbformat_minor": 2
}
